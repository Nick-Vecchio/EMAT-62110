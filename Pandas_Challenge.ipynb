{
 "cells": [
  {
   "cell_type": "markdown",
   "id": "620a0e43-6c86-445b-8ecb-1a8f77174edb",
   "metadata": {},
   "source": [
    "### Importing Pandas"
   ]
  },
  {
   "cell_type": "code",
   "execution_count": 22,
   "id": "daabe9d6-cb39-47c0-884f-7786e479a7db",
   "metadata": {},
   "outputs": [],
   "source": [
    "import pandas as pd"
   ]
  },
  {
   "cell_type": "markdown",
   "id": "7dc17920-3238-4835-8fb0-11168b594683",
   "metadata": {},
   "source": [
    "### Create a DataFrame from a Dictionary and using head/index methods"
   ]
  },
  {
   "cell_type": "code",
   "execution_count": 23,
   "id": "818e0c86-c31d-4cd9-a2dd-7014515f1e36",
   "metadata": {},
   "outputs": [
    {
     "name": "stdout",
     "output_type": "stream",
     "text": [
      "        Height  Weight\n",
      "Lily        16      32\n",
      "Violet      12      25\n",
      "Poppy       13      27\n"
     ]
    }
   ],
   "source": [
    "beagle_info = {\n",
    "    'Height': [16, 12, 13],\n",
    "    'Weight': [32, 25, 27]\n",
    "}\n",
    "\n",
    "beagle_df = pd.DataFrame(beagle_info, index=['Lily', 'Violet', 'Poppy'])\n",
    "\n",
    "print(beagle_df)"
   ]
  },
  {
   "cell_type": "code",
   "execution_count": 24,
   "id": "fd359a75-c1c4-4551-9e2c-69e43e5230bb",
   "metadata": {},
   "outputs": [
    {
     "data": {
      "text/html": [
       "<div>\n",
       "<style scoped>\n",
       "    .dataframe tbody tr th:only-of-type {\n",
       "        vertical-align: middle;\n",
       "    }\n",
       "\n",
       "    .dataframe tbody tr th {\n",
       "        vertical-align: top;\n",
       "    }\n",
       "\n",
       "    .dataframe thead th {\n",
       "        text-align: right;\n",
       "    }\n",
       "</style>\n",
       "<table border=\"1\" class=\"dataframe\">\n",
       "  <thead>\n",
       "    <tr style=\"text-align: right;\">\n",
       "      <th></th>\n",
       "      <th>Height</th>\n",
       "      <th>Weight</th>\n",
       "    </tr>\n",
       "  </thead>\n",
       "  <tbody>\n",
       "    <tr>\n",
       "      <th>Lily</th>\n",
       "      <td>16</td>\n",
       "      <td>32</td>\n",
       "    </tr>\n",
       "    <tr>\n",
       "      <th>Violet</th>\n",
       "      <td>12</td>\n",
       "      <td>25</td>\n",
       "    </tr>\n",
       "    <tr>\n",
       "      <th>Poppy</th>\n",
       "      <td>13</td>\n",
       "      <td>27</td>\n",
       "    </tr>\n",
       "  </tbody>\n",
       "</table>\n",
       "</div>"
      ],
      "text/plain": [
       "        Height  Weight\n",
       "Lily        16      32\n",
       "Violet      12      25\n",
       "Poppy       13      27"
      ]
     },
     "execution_count": 24,
     "metadata": {},
     "output_type": "execute_result"
    }
   ],
   "source": [
    "beagle_df.head()"
   ]
  },
  {
   "cell_type": "code",
   "execution_count": 25,
   "id": "7d292e48-136d-4e5c-bb4d-9de0445c7457",
   "metadata": {},
   "outputs": [
    {
     "data": {
      "text/plain": [
       "Index(['Lily', 'Violet', 'Poppy'], dtype='object')"
      ]
     },
     "execution_count": 25,
     "metadata": {},
     "output_type": "execute_result"
    }
   ],
   "source": [
    "beagle_df.index"
   ]
  },
  {
   "cell_type": "markdown",
   "id": "f1fed26b-7e9e-4c73-803e-25d0e7f307c0",
   "metadata": {},
   "source": [
    "### Using first column name and assigning its values to column1 then printing"
   ]
  },
  {
   "cell_type": "code",
   "execution_count": 26,
   "id": "ac4a737d-5fd2-4ede-8a4c-0944a0b003db",
   "metadata": {},
   "outputs": [
    {
     "name": "stdout",
     "output_type": "stream",
     "text": [
      "Lily      16\n",
      "Violet    12\n",
      "Poppy     13\n",
      "Name: Height, dtype: int64\n"
     ]
    }
   ],
   "source": [
    "column1 = beagle_df['Height']\n",
    "print(column1)"
   ]
  },
  {
   "cell_type": "markdown",
   "id": "a489f022-d73c-47b4-b3d8-7c602bd36fad",
   "metadata": {},
   "source": [
    "### Using first column name with Getitem ([]) syntax\n",
    "__[Link to GetItem](https://pandas.pydata.org/docs/user_guide/10min.html#getitem)__"
   ]
  },
  {
   "cell_type": "code",
   "execution_count": 27,
   "id": "9257f3e4-6819-46c2-bdf7-004f5f2b6ff1",
   "metadata": {},
   "outputs": [
    {
     "data": {
      "text/plain": [
       "Lily      16\n",
       "Violet    12\n",
       "Poppy     13\n",
       "Name: Height, dtype: int64"
      ]
     },
     "execution_count": 27,
     "metadata": {},
     "output_type": "execute_result"
    }
   ],
   "source": [
    "beagle_df[\"Height\"]"
   ]
  },
  {
   "cell_type": "markdown",
   "id": "3a5b317e-8e59-44c3-886c-98145c145fe5",
   "metadata": {},
   "source": [
    "### Using .loc a DataFrame method to retrieve a row or column based on label\n",
    "__[Link to .loc](https://pandas.pydata.org/docs/reference/api/pandas.DataFrame.loc.html#pandas-dataframe-loc)__"
   ]
  },
  {
   "cell_type": "code",
   "execution_count": 28,
   "id": "5b043ccf-6bf3-4116-9203-b3dd81ac6b15",
   "metadata": {},
   "outputs": [],
   "source": [
    "row1 = beagle_df.loc[\"Lily\"]"
   ]
  },
  {
   "cell_type": "code",
   "execution_count": 29,
   "id": "5870ea1b-a0b9-472d-aa4e-0e1d761f4813",
   "metadata": {},
   "outputs": [
    {
     "name": "stdout",
     "output_type": "stream",
     "text": [
      "Height    16\n",
      "Weight    32\n",
      "Name: Lily, dtype: int64\n"
     ]
    }
   ],
   "source": [
    "print(row1)"
   ]
  },
  {
   "cell_type": "markdown",
   "id": "148e33e9-5d85-4a3e-aca7-b300602a863d",
   "metadata": {},
   "source": [
    "### Creating a DataFrame from a List object"
   ]
  },
  {
   "cell_type": "code",
   "execution_count": 30,
   "id": "355759ba-58d8-4b6a-bb1f-744721f1c91f",
   "metadata": {},
   "outputs": [
    {
     "name": "stdout",
     "output_type": "stream",
     "text": [
      "        Height Weight\n",
      "Lily        16     32\n",
      "Violet      12     25\n",
      "Poppy       13     27\n"
     ]
    }
   ],
   "source": [
    "beagle_info2 = [{'Height': 16, 'Weight': '32'},\n",
    "           {'Height': 12, 'Weight': '25'},\n",
    "           {'Height': 13, 'Weight': '27'}]\n",
    "beagle_df2 = pd.DataFrame(beagle_info2, index=['Lily', 'Violet', 'Poppy'])\n",
    "print(beagle_df2)"
   ]
  },
  {
   "cell_type": "markdown",
   "id": "274f81ef-18b5-4138-86a1-441edb7b369d",
   "metadata": {},
   "source": [
    "### Sending DataFrame to CSV using implied and explicit path\n",
    "__[Link to .to_csv](https://pandas.pydata.org/docs/user_guide/10min.html#importing-and-exporting-data)__"
   ]
  },
  {
   "cell_type": "code",
   "execution_count": 31,
   "id": "ead96eef-8bdd-4032-87d2-87688314962c",
   "metadata": {},
   "outputs": [],
   "source": [
    "beagle_df2.to_csv(\"beagles.csv\")\n",
    "beagle_df2.to_csv(\"/Users/nickvecchio/Data Visualisation Class/beaglespath.csv\")"
   ]
  },
  {
   "cell_type": "markdown",
   "id": "5c88c94c-368b-41d2-b774-8e51ac4df201",
   "metadata": {},
   "source": [
    "### Questions on (Murray 2017)\n",
    "### 1. The \"write, render, evaluate\" loop provides the ability to iterate over design decisions quickly and efficiently by automating the most time consuming step of building the visualization.\n",
    "### 2. Dynamic, interactive daata visualizations are useful in communicating beacuse they allow the data to be available to many different groups/stakeholders. Imagine even a small group of people (say 4-5). Even in that small group each individual may have their own needs/desires when looking to a data visualization for answers. A static image may only meet some (or possibly) none of those needs. Whereas, a dynamic visualization may meet more and even provide answers to questions they didn't know they had! \n",
    "### 3. I agree with Murray's conclusion that open source non-propietary tools will be the better choice for data visualization. The greatest barrier in my experience to using proprietary tools is cost. I couldn't believe that Microsoft charges to use PowerBI, even to those who are only viewing the data. Don't have license? You won't be viewing anything! Additionally, I have found as a software developer that open source tools are more convenient as the creators are much more amenable to implementing new features or even using something another person has developed."
   ]
  }
 ],
 "metadata": {
  "kernelspec": {
   "display_name": "Python 3 (ipykernel)",
   "language": "python",
   "name": "python3"
  },
  "language_info": {
   "codemirror_mode": {
    "name": "ipython",
    "version": 3
   },
   "file_extension": ".py",
   "mimetype": "text/x-python",
   "name": "python",
   "nbconvert_exporter": "python",
   "pygments_lexer": "ipython3",
   "version": "3.12.4"
  }
 },
 "nbformat": 4,
 "nbformat_minor": 5
}
